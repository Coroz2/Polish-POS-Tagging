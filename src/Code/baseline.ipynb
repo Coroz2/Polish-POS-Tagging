{
 "cells": [
  {
   "cell_type": "code",
   "execution_count": 19,
   "metadata": {},
   "outputs": [],
   "source": [
    "# Import statements\n",
    "import numpy as np\n",
    "import pandas as pd\n",
    "import csv\n",
    "import xml.etree.ElementTree as ET\n",
    "from sklearn.model_selection import KFold\n",
    "from sklearn.naive_bayes import GaussianNB\n",
    "from sklearn.preprocessing import OneHotEncoder\n",
    "from sklearn.tree import DecisionTreeClassifier\n",
    "from sklearn.metrics import precision_recall_fscore_support\n",
    "from sklearn.feature_extraction.text import TfidfVectorizer\n",
    "from sklearn.metrics import f1_score, precision_score, recall_score\n",
    "from sklearn.feature_extraction.text import CountVectorizer\n",
    "from sklearn.model_selection import train_test_split\n",
    "\n",
    "\n"
   ]
  },
  {
   "cell_type": "code",
   "execution_count": 25,
   "metadata": {},
   "outputs": [
    {
     "name": "stdout",
     "output_type": "stream",
     "text": [
      "CSV file created as 'orth_context.csv'.\n"
     ]
    }
   ],
   "source": [
    "#Processing XML file and turing into csv table\n",
    "tree = ET.parse('../Data/train.xml')\n",
    "root = tree.getroot()\n",
    "with open('orth_context.csv', mode='w', newline='', encoding='utf-8') as csv_file:\n",
    "    writer = csv.writer(csv_file)\n",
    "    # Write header\n",
    "    writer.writerow([\"Prev3\", \"Prev2\", \"Prev1\", \"Current\", \"Next1\", \"Next2\", \"Next3\", \"Class\"])\n",
    "\n",
    "    # Loop over each <chunk>\n",
    "    for chunk in root.findall('.//chunk'):\n",
    "        # Collect all <orth> and <ctag> elements in the current chunk\n",
    "        orths = []\n",
    "        ctags = []\n",
    "        for tok in chunk.findall('tok'):\n",
    "            orth = tok.find('orth')\n",
    "            ctag = tok.find('.//ctag')\n",
    "            if orth is not None:\n",
    "                orths.append(orth.text)\n",
    "                ctags.append(ctag.text if ctag is not None else \"_\")  # Use \"_\" if <ctag> is missing\n",
    "\n",
    "        # Iterate over each <orth> with its index\n",
    "        for i in range(len(orths)):\n",
    "            # Get previous and next orths with \"_\" if out of range\n",
    "            prev3 = orths[i - 3] if i - 3 >= 0 else \"_\"\n",
    "            prev2 = orths[i - 2] if i - 2 >= 0 else \"_\"\n",
    "            prev1 = orths[i - 1] if i - 1 >= 0 else \"_\"\n",
    "            current = orths[i]\n",
    "            next1 = orths[i + 1] if i + 1 < len(orths) else \"_\"\n",
    "            next2 = orths[i + 2] if i + 2 < len(orths) else \"_\"\n",
    "            next3 = orths[i + 3] if i + 3 < len(orths) else \"_\"\n",
    "            current_class = ctags[i].split(\":\")[0]\n",
    "\n",
    "            # Write row to CSV\n",
    "            writer.writerow([prev3, prev2, prev1, current, next1, next2, next3, current_class])\n",
    "\n",
    "print(\"CSV file created as 'orth_context.csv'.\")\n",
    "    "
   ]
  },
  {
   "cell_type": "code",
   "execution_count": null,
   "metadata": {},
   "outputs": [],
   "source": []
  }
 ],
 "metadata": {
  "kernelspec": {
   "display_name": "Python 3",
   "language": "python",
   "name": "python3"
  },
  "language_info": {
   "codemirror_mode": {
    "name": "ipython",
    "version": 3
   },
   "file_extension": ".py",
   "mimetype": "text/x-python",
   "name": "python",
   "nbconvert_exporter": "python",
   "pygments_lexer": "ipython3",
   "version": "3.12.0"
  }
 },
 "nbformat": 4,
 "nbformat_minor": 2
}
